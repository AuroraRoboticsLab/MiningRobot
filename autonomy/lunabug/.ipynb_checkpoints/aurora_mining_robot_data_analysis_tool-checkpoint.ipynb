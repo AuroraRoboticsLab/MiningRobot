{
 "cells": [
  {
   "cell_type": "code",
   "execution_count": null,
   "id": "97c4ddfe",
   "metadata": {},
   "outputs": [],
   "source": [
    "import time\n",
    "import psutil\n",
    "import matplotlib.pyplot as plt"
   ]
  },
  {
   "cell_type": "code",
   "execution_count": null,
   "id": "cbd4325c",
   "metadata": {},
   "outputs": [],
   "source": [
    "%matplotlib notebook"
   ]
  },
  {
   "cell_type": "code",
   "execution_count": null,
   "id": "a68bf509",
   "metadata": {},
   "outputs": [],
   "source": [
    "fig = plt.figure()\n",
    "ax = fig.add_subplot(111)\n",
    "\n",
    "fig.show()"
   ]
  },
  {
   "cell_type": "code",
   "execution_count": null,
   "id": "2e87d8a1",
   "metadata": {},
   "outputs": [],
   "source": [
    "# i = 0\n",
    "# x,y = [], []\n",
    "\n",
    "# while True:\n",
    "#     x.append(i)\n",
    "#     y.append(psutil.cpu_percent())\n",
    "#     ax.plot(x, y, color='b')\n",
    "#     fig.canvas.draw()\n",
    "#     time.sleep(1)\n",
    "#     [i+=1]"
   ]
  },
  {
   "cell_type": "code",
   "execution_count": null,
   "id": "e09e6981",
   "metadata": {},
   "outputs": [],
   "source": []
  }
 ],
 "metadata": {
  "kernelspec": {
   "display_name": "Python 3 (ipykernel)",
   "language": "python",
   "name": "python3"
  },
  "language_info": {
   "codemirror_mode": {
    "name": "ipython",
    "version": 3
   },
   "file_extension": ".py",
   "mimetype": "text/x-python",
   "name": "python",
   "nbconvert_exporter": "python",
   "pygments_lexer": "ipython3",
   "version": "3.9.13"
  }
 },
 "nbformat": 4,
 "nbformat_minor": 5
}
