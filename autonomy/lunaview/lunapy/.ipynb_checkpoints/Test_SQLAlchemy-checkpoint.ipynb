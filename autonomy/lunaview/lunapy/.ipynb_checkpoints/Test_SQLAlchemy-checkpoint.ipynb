{
 "cells": [
  {
   "cell_type": "code",
   "execution_count": 11,
   "id": "ffcdd961",
   "metadata": {},
   "outputs": [],
   "source": [
    "import sqlalchemy\n",
    "from sqlalchemy.dialects.postgresql import JSON\n",
    "from sqlalchemy import MetaData\n",
    "from sqlalchemy import Table, Column, Integer, Numeric, String, ForeignKey"
   ]
  },
  {
   "cell_type": "code",
   "execution_count": 12,
   "id": "60ea4eb0",
   "metadata": {},
   "outputs": [],
   "source": [
    "metadata = MetaData()"
   ]
  },
  {
   "cell_type": "code",
   "execution_count": 13,
   "id": "045befa7",
   "metadata": {},
   "outputs": [],
   "source": [
    "cookies = Table('cookies', metadata,\n",
    "               Column('cookie_id', Integer(), primary_key=True),\n",
    "               Column('cookie_name', String(50), index=True),\n",
    "               Column('cookie_recipe_url', String(255)),\n",
    "               Column('cookie_sku', String(55)),\n",
    "               Column('quantity', Integer()),\n",
    "               Column('unit_cost', Numeric(12, 2))\n",
    "               )"
   ]
  },
  {
   "cell_type": "code",
   "execution_count": 14,
   "id": "661b39dc",
   "metadata": {},
   "outputs": [],
   "source": [
    "from datetime import datetime\n",
    "from sqlalchemy import DateTime"
   ]
  },
  {
   "cell_type": "code",
   "execution_count": 17,
   "id": "2f610c01",
   "metadata": {},
   "outputs": [],
   "source": [
    "users = Table('users', metadata,\n",
    "    Column('user_id', Integer(), primary_key=True),\n",
    "    Column('username', String(15), nullable=False, unique=True),\n",
    "    Column('email_address', String(255), nullable=False),\n",
    "    Column('phone', String(20), nullable=False),\n",
    "    Column('password', String(25), nullable=False),\n",
    "    Column('created_on', DateTime(), default=datetime.now),\n",
    "    Column('updated_on', DateTime(), default=datetime.now, onupdate=datetime.now)\n",
    ")"
   ]
  },
  {
   "cell_type": "code",
   "execution_count": 18,
   "id": "d79dd472",
   "metadata": {},
   "outputs": [],
   "source": [
    "from sqlalchemy import PrimaryKeyConstraint, UniqueConstraint, CheckConstraint"
   ]
  },
  {
   "cell_type": "code",
   "execution_count": 19,
   "id": "86ff3a34",
   "metadata": {},
   "outputs": [
    {
     "data": {
      "text/plain": [
       "PrimaryKeyConstraint()"
      ]
     },
     "execution_count": 19,
     "metadata": {},
     "output_type": "execute_result"
    }
   ],
   "source": [
    "PrimaryKeyConstraint('user_id', name='user_pk')"
   ]
  },
  {
   "cell_type": "code",
   "execution_count": 20,
   "id": "c6be419b",
   "metadata": {},
   "outputs": [
    {
     "data": {
      "text/plain": [
       "UniqueConstraint()"
      ]
     },
     "execution_count": 20,
     "metadata": {},
     "output_type": "execute_result"
    }
   ],
   "source": [
    "UniqueConstraint('username', name='uix_username')"
   ]
  },
  {
   "cell_type": "code",
   "execution_count": 21,
   "id": "1a704c0a",
   "metadata": {},
   "outputs": [
    {
     "data": {
      "text/plain": [
       "CheckConstraint(<sqlalchemy.sql.elements.TextClause object at 0x7f23b6aedcd0>, name='unit_cost_positive')"
      ]
     },
     "execution_count": 21,
     "metadata": {},
     "output_type": "execute_result"
    }
   ],
   "source": [
    "CheckConstraint('unit_cost >= 0.00', name='unit_cost_positive')"
   ]
  },
  {
   "cell_type": "code",
   "execution_count": null,
   "id": "575e7f23",
   "metadata": {},
   "outputs": [],
   "source": [
    "from sqlalchemy import Index"
   ]
  }
 ],
 "metadata": {
  "kernelspec": {
   "display_name": "Python 3 (ipykernel)",
   "language": "python",
   "name": "python3"
  },
  "language_info": {
   "codemirror_mode": {
    "name": "ipython",
    "version": 3
   },
   "file_extension": ".py",
   "mimetype": "text/x-python",
   "name": "python",
   "nbconvert_exporter": "python",
   "pygments_lexer": "ipython3",
   "version": "3.9.13"
  }
 },
 "nbformat": 4,
 "nbformat_minor": 5
}
